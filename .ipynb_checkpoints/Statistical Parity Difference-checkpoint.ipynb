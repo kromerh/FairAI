{
 "cells": [
  {
   "cell_type": "markdown",
   "id": "unlikely-instruction",
   "metadata": {},
   "source": [
    "# Statistical parity difference\n",
    "\n",
    "$P(Y = 1 | D = \\text{unpriviledged}) - P(Y = 1 | D = \\text{priviledged})$"
   ]
  },
  {
   "cell_type": "markdown",
   "id": "requested-jungle",
   "metadata": {},
   "source": [
    "The example dataset is the German credit dataset. The protected attribute is \"age\", with older than or equal to 25 and younger than 25 being the values for the privileged and unprivileged groups, respectively. The target of the prediction is the \"credit\" columns, where 1 is indicating that credit is handed out, 0 that it is not.\n",
    "\n"
   ]
  },
  {
   "cell_type": "code",
   "execution_count": 3,
   "id": "soviet-lyric",
   "metadata": {},
   "outputs": [
    {
     "data": {
      "text/plain": [
       "((851, 21), (149, 21))"
      ]
     },
     "execution_count": 3,
     "metadata": {},
     "output_type": "execute_result"
    }
   ],
   "source": [
    "import pandas as pd\n",
    "\n",
    "column_names = ['status', 'month', 'credit_history',\n",
    "    'purpose', 'credit_amount', 'savings', 'employment',\n",
    "    'investment_as_income_percentage', 'personal_status',\n",
    "    'other_debtors', 'residence_since', 'property', 'age',\n",
    "    'installment_plans', 'housing', 'number_of_credits',\n",
    "    'skill_level', 'people_liable_for', 'telephone',\n",
    "    'foreign_worker', 'credit']\n",
    "filepath = '/Users/hkromer/01_Projects/27.Fairness_Bias/AIF360/aif360/data/raw/german/german.data'\n",
    "df = pd.read_csv(filepath, sep=' ', header=None, names=column_names)\n",
    "\n",
    "m = df['age'] >= 25 # filter mask: age >= 25 is considered priviledged group\n",
    "priviledged = df[ m ] \n",
    "unpriviledged = df[ ~m ] \n",
    "\n",
    "priviledged.shape, unpriviledged.shape"
   ]
  },
  {
   "cell_type": "code",
   "execution_count": 4,
   "id": "capable-receiver",
   "metadata": {},
   "outputs": [],
   "source": [
    "def statistical_parity_difference(df_priviledged, df_unpriviledged, favorable_class):\n",
    "    r\"\"\"\n",
    "    Inputs\n",
    "    ------------\n",
    "    df_priviledged : df\n",
    "        Dataframe containing the dataset of the priviledged group. \n",
    "    df_unpriviledged : df\n",
    "        Datafraem containing the dataset of the unpriviledged group.\n",
    "    favorable_class : tuple\n",
    "        Tuple with index 0: name of the column of the dataframe that contains the favorable target class \n",
    "        (i.e., the positive prediction)\n",
    "        1: value for the target class (i.e., the value of the positive prediction)\n",
    "    .. math::\n",
    "       Pr(Y = 1 | D = \\text{unprivileged})\n",
    "       - Pr(Y = 1 | D = \\text{privileged})\n",
    "    \"\"\"\n",
    "    \n",
    "    # filter for the priviledged class favorable\n",
    "    mask = df_priviledged[favorable_class[0]] == favorable_class[1]\n",
    "    ratio_priviledged = df_priviledged[ mask ].shape[0] / df_priviledged.shape[0]\n",
    "    \n",
    "    # filter for the unpriviledged class favorable\n",
    "    mask = df_unpriviledged[favorable_class[0]] == favorable_class[1]\n",
    "    ratio_unpriviledged = df_unpriviledged[ mask ].shape[0] / df_unpriviledged.shape[0]\n",
    "    \n",
    "    return ratio_unpriviledged - ratio_priviledged\n"
   ]
  },
  {
   "cell_type": "code",
   "execution_count": 5,
   "id": "silent-adaptation",
   "metadata": {},
   "outputs": [
    {
     "data": {
      "text/plain": [
       "-0.12854990969960323"
      ]
     },
     "execution_count": 5,
     "metadata": {},
     "output_type": "execute_result"
    }
   ],
   "source": [
    "favorable_class = ('credit', 1.0)\n",
    "statistical_parity_difference(priviledged, unpriviledged, favorable_class)"
   ]
  },
  {
   "cell_type": "markdown",
   "id": "taken-router",
   "metadata": {},
   "source": [
    "The privileged group was getting 13% more positive outcomes in the training dataset."
   ]
  },
  {
   "cell_type": "code",
   "execution_count": null,
   "id": "inner-metabolism",
   "metadata": {},
   "outputs": [],
   "source": []
  }
 ],
 "metadata": {
  "kernelspec": {
   "display_name": "Python 3",
   "language": "python",
   "name": "python3"
  },
  "language_info": {
   "codemirror_mode": {
    "name": "ipython",
    "version": 3
   },
   "file_extension": ".py",
   "mimetype": "text/x-python",
   "name": "python",
   "nbconvert_exporter": "python",
   "pygments_lexer": "ipython3",
   "version": "3.6.12"
  }
 },
 "nbformat": 4,
 "nbformat_minor": 5
}
