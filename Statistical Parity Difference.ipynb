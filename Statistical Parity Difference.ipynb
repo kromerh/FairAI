{
 "cells": [
  {
   "cell_type": "markdown",
   "id": "unlikely-instruction",
   "metadata": {},
   "source": [
    "# Statistical parity difference\n",
    "\n",
    "$P(Y = 1 | D = \\text{unpriviledged}) - P(Y = 1 | D = \\text{priviledged})$"
   ]
  },
  {
   "cell_type": "code",
   "execution_count": null,
   "id": "soviet-lyric",
   "metadata": {},
   "outputs": [],
   "source": [
    "import pandas as pd\n",
    "\n",
    "column_names = ['status', 'month', 'credit_history',\n",
    "    'purpose', 'credit_amount', 'savings', 'employment',\n",
    "    'investment_as_income_percentage', 'personal_status',\n",
    "    'other_debtors', 'residence_since', 'property', 'age',\n",
    "    'installment_plans', 'housing', 'number_of_credits',\n",
    "    'skill_level', 'people_liable_for', 'telephone',\n",
    "    'foreign_worker', 'credit']\n",
    "filepath = '/Users/hkromer/01_Projects/27.Fairness_Bias/FairAI/AIF360/aif360/data/raw/german/german.data'\n",
    "df = pd.read_csv(filepath, sep=' ', header=None, names=column_names)\n",
    "\n",
    "m = df['age'] >= 25 # filter mask: age >= 25 is considered priviledged group\n",
    "priviledged = df[ m ] \n",
    "unpriviledged = df[ ~m ] \n",
    "priviledged.shape, unpriviledged.shape"
   ]
  },
  {
   "cell_type": "code",
   "execution_count": 1,
   "id": "capable-receiver",
   "metadata": {},
   "outputs": [],
   "source": [
    "def statistical_parity_difference(df_priviledged, df_unpriviledged, favorable_class):\n",
    "    r\"\"\"\n",
    "    .. math::\n",
    "       Pr(Y = 1 | D = \\text{unprivileged})\n",
    "       - Pr(Y = 1 | D = \\text{privileged})\n",
    "    \"\"\"\n",
    "    # filter for the priviledged class favorable\n",
    "    mask = df_priviledged[favorable_class[0]] == favorable_class[1]\n",
    "    ratio_priviledged = df_priviledged[ mask ].shape[0] / df_priviledged.shape[0]\n",
    "    \n",
    "    # filter for the unpriviledged class favorable\n",
    "    mask = df_unpriviledged[favorable_class[0]] == favorable_class[1]\n",
    "    ratio_unpriviledged = df_unpriviledged[ mask ].shape[0] / df_unpriviledged.shape[0]\n",
    "    \n",
    "    return ratio_unpriviledged - ratio_priviledged\n"
   ]
  },
  {
   "cell_type": "code",
   "execution_count": null,
   "id": "silent-adaptation",
   "metadata": {},
   "outputs": [],
   "source": [
    "favorable_class = ('credit', 1.0)\n",
    "statistical_parity_difference(priviledged, unpriviledged, favorable_class)"
   ]
  }
 ],
 "metadata": {
  "kernelspec": {
   "display_name": "Python 3",
   "language": "python",
   "name": "python3"
  },
  "language_info": {
   "codemirror_mode": {
    "name": "ipython",
    "version": 3
   },
   "file_extension": ".py",
   "mimetype": "text/x-python",
   "name": "python",
   "nbconvert_exporter": "python",
   "pygments_lexer": "ipython3",
   "version": "3.6.12"
  }
 },
 "nbformat": 4,
 "nbformat_minor": 5
}
